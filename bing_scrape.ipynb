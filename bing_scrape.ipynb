{
 "cells": [
  {
   "cell_type": "code",
   "execution_count": 1,
   "metadata": {},
   "outputs": [],
   "source": [
    "# Import libraries\n",
    "from bs4 import BeautifulSoup\n",
    "import pandas as pd\n",
    "import numpy as np\n",
    "import requests\n",
    "import re\n",
    "import time"
   ]
  },
  {
   "cell_type": "code",
   "execution_count": 2,
   "metadata": {},
   "outputs": [],
   "source": [
    "# Read in project names to search\n",
    "# Read in any list of project names from a csv. Directories hidden from code for privacy.\n",
    "names = pd.read_csv(r'project_names.csv')\n",
    "names_list = names['names'].tolist()"
   ]
  },
  {
   "cell_type": "code",
   "execution_count": 3,
   "metadata": {},
   "outputs": [],
   "source": [
    "def bing_scrape(name):\n",
    "\n",
    "    # Define query parameters and user agent\n",
    "    query = name\n",
    "    query = query.replace(' ', '+')\n",
    "    URL = \"https://www.bing.com/search?q=site%3Awww.ccgp.gov.cn+\" + name\n",
    "    USER_AGENT = \"Mozilla/5.0 (Windows NT 10.0; Win64; x64) AppleWebKit/537.36 (KHTML, like Gecko)\\\n",
    "    Chrome/80.0.3987.87 Safari/537.36\"\n",
    "\n",
    "    # Request and get results\n",
    "\n",
    "    headers = {\"user-agent\" : USER_AGENT}\n",
    "    resp = requests.get(URL, headers=headers)\n",
    "\n",
    "    if resp.status_code == 200:\n",
    "        soup_test = BeautifulSoup(resp.content, \"html.parser\")\n",
    "\n",
    "    links = []\n",
    "    titles = []\n",
    "    test = soup_test.findAll('h2')\n",
    "    for title in test:\n",
    "        titles.append(title.text.strip())\n",
    "        links.append(title.find('a', attrs={'href': re.compile(\"^http://\")}).replaceWithChildren()['href'])\n",
    "\n",
    "    original_search = [query] * len(links)\n",
    "    results = dict(zip(titles, zip(original_search, links)))\n",
    "    \n",
    "    return results"
   ]
  },
  {
   "cell_type": "code",
   "execution_count": 4,
   "metadata": {},
   "outputs": [],
   "source": [
    "final = {}\n",
    "\n",
    "for i in range(0, len(names_list)):\n",
    "    name = names_list[i]\n",
    "    final.update(bing_scrape(name))"
   ]
  },
  {
   "cell_type": "code",
   "execution_count": 7,
   "metadata": {},
   "outputs": [],
   "source": [
    "test = pd.DataFrame(final).transpose()\n",
    "test.reset_index(inplace=True)"
   ]
  },
  {
   "cell_type": "code",
   "execution_count": 26,
   "metadata": {},
   "outputs": [],
   "source": [
    "test.rename(columns = {0: 'Original search'},inplace=True)\n",
    "test.rename(columns = {1: 'Url'},inplace=True)\n",
    "test.rename(columns = {'index': 'Title'},inplace=True)"
   ]
  },
  {
   "cell_type": "code",
   "execution_count": 27,
   "metadata": {},
   "outputs": [
    {
     "data": {
      "text/html": [
       "<div>\n",
       "<style scoped>\n",
       "    .dataframe tbody tr th:only-of-type {\n",
       "        vertical-align: middle;\n",
       "    }\n",
       "\n",
       "    .dataframe tbody tr th {\n",
       "        vertical-align: top;\n",
       "    }\n",
       "\n",
       "    .dataframe thead th {\n",
       "        text-align: right;\n",
       "    }\n",
       "</style>\n",
       "<table border=\"1\" class=\"dataframe\">\n",
       "  <thead>\n",
       "    <tr style=\"text-align: right;\">\n",
       "      <th></th>\n",
       "      <th>Title</th>\n",
       "      <th>Original search</th>\n",
       "      <th>Url</th>\n",
       "    </tr>\n",
       "  </thead>\n",
       "  <tbody>\n",
       "    <tr>\n",
       "      <td>0</td>\n",
       "      <td>凌源市水务局凌源市自来水存量资产PPP项目公开招 …</td>\n",
       "      <td>凌源市自来水存量资产PPP项目</td>\n",
       "      <td>http://www.ccgp.gov.cn/cggg/dfgg/gkzb/201911/t...</td>\n",
       "    </tr>\n",
       "    <tr>\n",
       "      <td>1</td>\n",
       "      <td>PPP采购公告 - 中国政府采购网</td>\n",
       "      <td>黑龙江省大庆市林甸经济开发区污水处理厂PPP项目</td>\n",
       "      <td>http://www.ccgp.gov.cn/ppp/pppzbgg/index_2.html</td>\n",
       "    </tr>\n",
       "    <tr>\n",
       "      <td>2</td>\n",
       "      <td>PPP中标公告 - 中国政府采购网</td>\n",
       "      <td>黑龙江省绥化市经开区（国家级）污水处理工程项目</td>\n",
       "      <td>http://www.ccgp.gov.cn/ppp/pppzhbgg/index_24.html</td>\n",
       "    </tr>\n",
       "    <tr>\n",
       "      <td>3</td>\n",
       "      <td>海城市财政局海城市自来水存量资产PPP项目预中标 …</td>\n",
       "      <td>凌源市自来水存量资产PPP项目</td>\n",
       "      <td>http://www.ccgp.gov.cn/cggg/dfgg/zbgg/201912/t...</td>\n",
       "    </tr>\n",
       "    <tr>\n",
       "      <td>4</td>\n",
       "      <td>海城市财政局海城市自来水存量资产PPP项目资格预 …</td>\n",
       "      <td>凌源市自来水存量资产PPP项目</td>\n",
       "      <td>http://www.ccgp.gov.cn/cggg/dfgg/zbgg/201912/t...</td>\n",
       "    </tr>\n",
       "    <tr>\n",
       "      <td>...</td>\n",
       "      <td>...</td>\n",
       "      <td>...</td>\n",
       "      <td>...</td>\n",
       "    </tr>\n",
       "    <tr>\n",
       "      <td>1198</td>\n",
       "      <td>黑龙江省城镇污水处理项目打包招商 - ccgp.gov.cn</td>\n",
       "      <td>黑龙江省绥化市北郊污水处理工程PPP项目</td>\n",
       "      <td>http://www.ccgp.gov.cn/cggg/dfgg/qtgg/201904/t...</td>\n",
       "    </tr>\n",
       "    <tr>\n",
       "      <td>1199</td>\n",
       "      <td>望奎县人民医院污水处理设备采购项目竞争性磋商</td>\n",
       "      <td>黑龙江省绥化市北郊污水处理工程PPP项目</td>\n",
       "      <td>http://www.ccgp.gov.cn/cggg/dfgg/jzxcs/201908/...</td>\n",
       "    </tr>\n",
       "    <tr>\n",
       "      <td>1200</td>\n",
       "      <td>庆安县住房和城乡建设局庆安县污水处理厂提标升级 …</td>\n",
       "      <td>黑龙江省绥化市庆安县污水处理厂提标升级改造工程PPP项目</td>\n",
       "      <td>http://www.ccgp.gov.cn/cggg/dfgg/cjgg/201908/t...</td>\n",
       "    </tr>\n",
       "    <tr>\n",
       "      <td>1201</td>\n",
       "      <td>鸡西市梨树区城乡建设局黑龙江省鸡西市梨树区平岗 …</td>\n",
       "      <td>黑龙江省鸡西市梨树区平岗污水处理项目</td>\n",
       "      <td>http://www.ccgp.gov.cn/cggg/dfgg/zgysgg/201712...</td>\n",
       "    </tr>\n",
       "    <tr>\n",
       "      <td>1202</td>\n",
       "      <td>临邑县临盘污水处理厂尾水人工湿地扩建工程监理项 …</td>\n",
       "      <td>齐河城西污水处理厂</td>\n",
       "      <td>http://www.ccgp.gov.cn/cggg/dfgg/zbgg/201807/t...</td>\n",
       "    </tr>\n",
       "  </tbody>\n",
       "</table>\n",
       "<p>1203 rows × 3 columns</p>\n",
       "</div>"
      ],
      "text/plain": [
       "                               Title               Original search  \\\n",
       "0         凌源市水务局凌源市自来水存量资产PPP项目公开招 …               凌源市自来水存量资产PPP项目   \n",
       "1                  PPP采购公告 - 中国政府采购网      黑龙江省大庆市林甸经济开发区污水处理厂PPP项目   \n",
       "2                  PPP中标公告 - 中国政府采购网       黑龙江省绥化市经开区（国家级）污水处理工程项目   \n",
       "3         海城市财政局海城市自来水存量资产PPP项目预中标 …               凌源市自来水存量资产PPP项目   \n",
       "4         海城市财政局海城市自来水存量资产PPP项目资格预 …               凌源市自来水存量资产PPP项目   \n",
       "...                              ...                           ...   \n",
       "1198  黑龙江省城镇污水处理项目打包招商 - ccgp.gov.cn          黑龙江省绥化市北郊污水处理工程PPP项目   \n",
       "1199          望奎县人民医院污水处理设备采购项目竞争性磋商          黑龙江省绥化市北郊污水处理工程PPP项目   \n",
       "1200       庆安县住房和城乡建设局庆安县污水处理厂提标升级 …  黑龙江省绥化市庆安县污水处理厂提标升级改造工程PPP项目   \n",
       "1201       鸡西市梨树区城乡建设局黑龙江省鸡西市梨树区平岗 …            黑龙江省鸡西市梨树区平岗污水处理项目   \n",
       "1202       临邑县临盘污水处理厂尾水人工湿地扩建工程监理项 …                     齐河城西污水处理厂   \n",
       "\n",
       "                                                    Url  \n",
       "0     http://www.ccgp.gov.cn/cggg/dfgg/gkzb/201911/t...  \n",
       "1       http://www.ccgp.gov.cn/ppp/pppzbgg/index_2.html  \n",
       "2     http://www.ccgp.gov.cn/ppp/pppzhbgg/index_24.html  \n",
       "3     http://www.ccgp.gov.cn/cggg/dfgg/zbgg/201912/t...  \n",
       "4     http://www.ccgp.gov.cn/cggg/dfgg/zbgg/201912/t...  \n",
       "...                                                 ...  \n",
       "1198  http://www.ccgp.gov.cn/cggg/dfgg/qtgg/201904/t...  \n",
       "1199  http://www.ccgp.gov.cn/cggg/dfgg/jzxcs/201908/...  \n",
       "1200  http://www.ccgp.gov.cn/cggg/dfgg/cjgg/201908/t...  \n",
       "1201  http://www.ccgp.gov.cn/cggg/dfgg/zgysgg/201712...  \n",
       "1202  http://www.ccgp.gov.cn/cggg/dfgg/zbgg/201807/t...  \n",
       "\n",
       "[1203 rows x 3 columns]"
      ]
     },
     "execution_count": 27,
     "metadata": {},
     "output_type": "execute_result"
    }
   ],
   "source": [
    "test"
   ]
  },
  {
   "cell_type": "code",
   "execution_count": 28,
   "metadata": {},
   "outputs": [],
   "source": [
    "# Write output to csv. Directory structure hidden in code for privacy.\n",
    "test.to_csv(r'bing_scrape.csv', encoding='utf_8_sig')"
   ]
  },
  {
   "cell_type": "code",
   "execution_count": null,
   "metadata": {},
   "outputs": [],
   "source": []
  }
 ],
 "metadata": {
  "kernelspec": {
   "display_name": "Python 3",
   "language": "python",
   "name": "python3"
  },
  "language_info": {
   "codemirror_mode": {
    "name": "ipython",
    "version": 3
   },
   "file_extension": ".py",
   "mimetype": "text/x-python",
   "name": "python",
   "nbconvert_exporter": "python",
   "pygments_lexer": "ipython3",
   "version": "3.7.4"
  }
 },
 "nbformat": 4,
 "nbformat_minor": 2
}
